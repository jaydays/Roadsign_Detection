{
 "cells": [
  {
   "cell_type": "code",
   "execution_count": 2,
   "metadata": {
    "scrolled": true
   },
   "outputs": [
    {
     "name": "stdout",
     "output_type": "stream",
     "text": [
      "4\n",
      "Done. Processed 7856 annotations.\n"
     ]
    }
   ],
   "source": [
    "import io, sys, types\n",
    "import os\n",
    "import shutil\n",
    "\n",
    "curDir = os.getcwd()\n",
    "\n",
    "dataBasePath = os.path.join(curDir, \"DataBase\")\n",
    "originPath = os.path.join(curDir, \"signDatabasePublicFramesOnly\")\n",
    "\n",
    "dataFolder = \"Data\"\n",
    "newAnnotationFile = \"annotations.csv\"\n",
    "oldAnnotationFile = \"allAnnotations.csv\" #\"testAnnotations.csv\"\n",
    "semiColon = \";\"\n",
    "\n",
    "annotationPath = os.path.join(originPath, oldAnnotationFile)\n",
    "if not os.path.isfile(annotationPath):\n",
    "    print(\"The given annotation file does not exist.\")\n",
    "    exit()\n",
    "\n",
    "csv = open(os.path.abspath(annotationPath), 'r')\n",
    "\n",
    "header = csv.readline()\n",
    "fields = header.split(\";\")\n",
    "selectedElements = [\"number of signs\",fields[0],fields[1],fields[2],fields[3],fields[4],fields[5]]\n",
    "header = semiColon.join(selectedElements)\n",
    "\n",
    "csv = csv.readlines()\n",
    "csv.sort()\n",
    "\n",
    "allAnnotations = []\n",
    "\n",
    "basePath = dataBasePath\n",
    "savePath = os.path.join(basePath, dataFolder)\n",
    "\n",
    "if not os.path.isdir(basePath):\n",
    "    os.mkdir(basePath)\n",
    "if not os.path.isdir(savePath):\n",
    "    os.mkdir(savePath)\n",
    "\n",
    "counter = 0\n",
    "previousFile = ''\n",
    "numSigns = 0\n",
    "maxNumSigns = 0\n",
    "for line in csv:\n",
    "    fields = line.split(\";\")\n",
    "    \n",
    "    if previousFile != fields[0]:\n",
    "        newFile = fields[0][fields[0].rfind(\"/\")+1:]\n",
    "        selectedElements = [newFile,fields[1],fields[2],fields[3],fields[4],fields[5]]\n",
    "        newLine = \"\\n\" + semiColon.join(selectedElements)\n",
    "        allAnnotations.append(newLine)\n",
    "        numSigns = 1\n",
    "        shutil.copy(os.path.join(originPath, fields[0]), savePath)\n",
    "\n",
    "    else:\n",
    "        selectedElements = [fields[1],fields[2],fields[3],fields[4],fields[5]]\n",
    "        newLine = \";\" + semiColon.join(selectedElements)\n",
    "        allAnnotations.append(newLine)\n",
    "        numSigns += 1\n",
    "        \n",
    "    if numSigns > maxNumSigns:\n",
    "        maxNumSigns = numSigns\n",
    "    previousFile = fields[0]\n",
    "    counter += 1\n",
    "    continue\n",
    "\n",
    "    \n",
    "out = open(os.path.join(basePath, newAnnotationFile), 'w')\n",
    "\n",
    "out.write(header)\n",
    "out.writelines(allAnnotations)\n",
    "out.close()\n",
    "\n",
    "print(maxNumSigns)\n",
    "print(\"Done. Processed %d annotations.\" % (counter+1))\n"
   ]
  },
  {
   "cell_type": "code",
   "execution_count": null,
   "metadata": {},
   "outputs": [],
   "source": []
  }
 ],
 "metadata": {
  "kernelspec": {
   "display_name": "ECE457B",
   "language": "python",
   "name": "ece457b"
  },
  "language_info": {
   "codemirror_mode": {
    "name": "ipython",
    "version": 3
   },
   "file_extension": ".py",
   "mimetype": "text/x-python",
   "name": "python",
   "nbconvert_exporter": "python",
   "pygments_lexer": "ipython3",
   "version": "3.7.4"
  }
 },
 "nbformat": 4,
 "nbformat_minor": 2
}
