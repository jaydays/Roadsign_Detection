{
 "cells": [
  {
   "cell_type": "code",
   "execution_count": 8,
   "metadata": {},
   "outputs": [],
   "source": [
    "import numpy as np\n",
    "#import tensorflow as tf\n",
    "from sklearn.model_selection import train_test_split\n",
    "from tensorflow.keras.models import Sequential\n",
    "from tensorflow.keras.layers import Dense, Conv2D, MaxPool2D, AveragePooling2D, Flatten, Dropout\n",
    "from tensorflow.keras.utils import to_categorical"
   ]
  },
  {
   "cell_type": "code",
   "execution_count": 11,
   "metadata": {},
   "outputs": [
    {
     "name": "stdout",
     "output_type": "stream",
     "text": [
      "Model: \"sequential_5\"\n",
      "_________________________________________________________________\n",
      "Layer (type)                 Output Shape              Param #   \n",
      "=================================================================\n",
      "conv2d_9 (Conv2D)            (None, 32, 32, 64)        1792      \n",
      "_________________________________________________________________\n",
      "max_pooling2d_8 (MaxPooling2 (None, 16, 16, 64)        0         \n",
      "_________________________________________________________________\n",
      "conv2d_10 (Conv2D)           (None, 16, 16, 64)        36928     \n",
      "_________________________________________________________________\n",
      "max_pooling2d_9 (MaxPooling2 (None, 8, 8, 64)          0         \n",
      "_________________________________________________________________\n",
      "average_pooling2d_2 (Average (None, 4, 4, 64)          0         \n",
      "_________________________________________________________________\n",
      "flatten_2 (Flatten)          (None, 1024)              0         \n",
      "_________________________________________________________________\n",
      "dense_6 (Dense)              (None, 512)               524800    \n",
      "_________________________________________________________________\n",
      "dropout_4 (Dropout)          (None, 512)               0         \n",
      "_________________________________________________________________\n",
      "dense_7 (Dense)              (None, 512)               262656    \n",
      "_________________________________________________________________\n",
      "dropout_5 (Dropout)          (None, 512)               0         \n",
      "_________________________________________________________________\n",
      "dense_8 (Dense)              (None, 47)                24111     \n",
      "=================================================================\n",
      "Total params: 850,287\n",
      "Trainable params: 850,287\n",
      "Non-trainable params: 0\n",
      "_________________________________________________________________\n",
      "None\n"
     ]
    }
   ],
   "source": [
    "inputShape = (32, 32, 3)\n",
    "numCategories = 47\n",
    "\n",
    "cnn = Sequential()\n",
    "\n",
    "#Convolutional Layers\n",
    "cnn.add(Conv2D(filters=64, kernel_size=(3, 3), padding='same', activation='relu', input_shape=inputShape))\n",
    "cnn.add(MaxPool2D(pool_size=(2,2), strides=None, padding='valid',data_format=None))\n",
    "cnn.add(Conv2D(filters=64, kernel_size=(3, 3), padding='same', activation='relu'))\n",
    "cnn.add(MaxPool2D(pool_size=(2,2), strides=None, padding='valid',data_format=None))\n",
    "\n",
    "cnn.add(AveragePooling2D(pool_size=(2,2), strides=None, padding='valid',data_format=None))\n",
    "\n",
    "#Fully Connected\n",
    "cnn.add(Flatten())\n",
    "cnn.add(Dense(512, activation='sigmoid'))\n",
    "cnn.add(Dropout(0.2))\n",
    "cnn.add(Dense(512, activation='sigmoid'))\n",
    "cnn.add(Dropout(0.2))\n",
    "\n",
    "#Output\n",
    "cnn.add(Dense(numCategories, activation='softmax'))\n",
    "\n",
    "print(cnn.summary())\n",
    "\n",
    "cnn.compile(loss='binary_crossentropy', optimizer='adam', metrics=['accuracy'])"
   ]
  },
  {
   "cell_type": "code",
   "execution_count": null,
   "metadata": {},
   "outputs": [],
   "source": []
  }
 ],
 "metadata": {
  "kernelspec": {
   "display_name": "ECE457B",
   "language": "python",
   "name": "ece457b"
  },
  "language_info": {
   "codemirror_mode": {
    "name": "ipython",
    "version": 3
   },
   "file_extension": ".py",
   "mimetype": "text/x-python",
   "name": "python",
   "nbconvert_exporter": "python",
   "pygments_lexer": "ipython3",
   "version": "3.7.4"
  }
 },
 "nbformat": 4,
 "nbformat_minor": 2
}
